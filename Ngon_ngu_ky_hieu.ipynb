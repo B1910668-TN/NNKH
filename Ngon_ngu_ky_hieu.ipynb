{
  "cells": [
    {
      "cell_type": "markdown",
      "metadata": {
        "id": "view-in-github",
        "colab_type": "text"
      },
      "source": [
        "<a href=\"https://colab.research.google.com/github/B1910668-TN/NNKH/blob/master/Ngon_ngu_ky_hieu.ipynb\" target=\"_parent\"><img src=\"https://colab.research.google.com/assets/colab-badge.svg\" alt=\"Open In Colab\"/></a>"
      ]
    },
    {
      "cell_type": "markdown",
      "metadata": {
        "id": "hlWqhUXBv_7-"
      },
      "source": [
        "**Installing Ultralytics using Pip Install**"
      ]
    },
    {
      "cell_type": "code",
      "execution_count": null,
      "metadata": {
        "colab": {
          "base_uri": "https://localhost:8080/"
        },
        "id": "6djz_w-BwEj9",
        "outputId": "5c6d58d0-de60-4770-ad2e-c1bf8cee2f3f"
      },
      "outputs": [
        {
          "output_type": "stream",
          "name": "stdout",
          "text": [
            "Ultralytics YOLOv8.0.221 🚀 Python-3.10.12 torch-2.1.0+cu118 CUDA:0 (Tesla T4, 15102MiB)\n",
            "Setup complete ✅ (2 CPUs, 12.7 GB RAM, 26.9/78.2 GB disk)\n"
          ]
        }
      ],
      "source": [
        "%pip install ultralytics\n",
        "import ultralytics\n",
        "ultralytics.checks()"
      ]
    },
    {
      "cell_type": "markdown",
      "metadata": {
        "id": "6jnVh9Fd9lT5"
      },
      "source": [
        "**Connect My Drive**"
      ]
    },
    {
      "cell_type": "code",
      "execution_count": null,
      "metadata": {
        "colab": {
          "base_uri": "https://localhost:8080/"
        },
        "id": "RqFxbX2k9j6C",
        "outputId": "e7b8107d-f940-4624-9d50-3dbb45c86c35"
      },
      "outputs": [
        {
          "output_type": "stream",
          "name": "stdout",
          "text": [
            "Mounted at /content/drive\n"
          ]
        }
      ],
      "source": [
        "from google.colab import drive\n",
        "drive.mount('/content/drive')"
      ]
    },
    {
      "cell_type": "markdown",
      "metadata": {
        "id": "4tBTYiDG93n7"
      },
      "source": [
        "**Unzip dataset**"
      ]
    },
    {
      "cell_type": "markdown",
      "metadata": {
        "id": "qTT2Wsa63AfC"
      },
      "source": [
        "> TK1\n",
        "\n"
      ]
    },
    {
      "cell_type": "code",
      "execution_count": null,
      "metadata": {
        "id": "C47Abipt93Qr"
      },
      "outputs": [],
      "source": [
        "!unzip /content/drive/MyDrive/lv_data/train_data_test.zip -d /content/data"
      ]
    },
    {
      "cell_type": "markdown",
      "metadata": {
        "id": "44R5QsrT-Wrv"
      },
      "source": [
        "**Huấn luyện**"
      ]
    },
    {
      "cell_type": "code",
      "execution_count": null,
      "metadata": {
        "id": "bFh8Thh3yDRs"
      },
      "outputs": [],
      "source": [
        "!yolo task=detect mode=train model=/content/runs/detect/train2/weights/last.pt data=/content/data/train_data/custom_data.yaml epochs=30 imgsz=640 batch=64 && zip -r /content/trained_models.zip /content/runs && cp /content/trained_models.zip /content/drive/MyDrive/luan_van_backup"
      ]
    },
    {
      "cell_type": "code",
      "execution_count": null,
      "metadata": {
        "id": "Nu5lEgu_O7m1"
      },
      "outputs": [],
      "source": [
        "!yolo task=detect mode=predict model=\"/content/runs/detect/train/weights/best.pt\" source=\"/content/b.jpg\""
      ]
    },
    {
      "cell_type": "code",
      "execution_count": null,
      "metadata": {
        "id": "peJQ8SN3DSNY"
      },
      "outputs": [],
      "source": [
        "!yolo task=detect mode=train model=yolov8n.pt data=/content/data/train_data/custom_data.yaml epochs=30 imgsz=640 batch=64 && zip -r /content/trained_models6.zip /content/runs && cp /content/trained_models6.zip /content/drive/MyDrive/luan_van_backup"
      ]
    },
    {
      "cell_type": "markdown",
      "metadata": {
        "id": "Dev_ZPVn-UlN"
      },
      "source": [
        "**Backup model**"
      ]
    },
    {
      "cell_type": "markdown",
      "metadata": {
        "id": "px6R4DZKqrzR"
      },
      "source": [
        "\n",
        "\n",
        "> **Zip folder**\n",
        "\n"
      ]
    },
    {
      "cell_type": "code",
      "execution_count": null,
      "metadata": {
        "id": "3EXq_hWyuFBk"
      },
      "outputs": [],
      "source": [
        "import zipfile\n",
        "import os\n",
        "\n",
        "def zip_subdirectories(source_folder, zip_path):\n",
        "    with zipfile.ZipFile(zip_path, 'w', zipfile.ZIP_DEFLATED) as zip_file:\n",
        "        for root, dirs, files in os.walk(source_folder):\n",
        "            for dir in dirs:\n",
        "                if dir.startswith('train'):\n",
        "                    dir_path = os.path.join(root, dir)\n",
        "                    for dir_root, _, dir_files in os.walk(dir_path):\n",
        "                        for file in dir_files:\n",
        "                            file_path = os.path.join(dir_root, file)\n",
        "                            relative_path = os.path.relpath(file_path, source_folder)\n",
        "                            zip_file.write(file_path, relative_path)"
      ]
    },
    {
      "cell_type": "code",
      "execution_count": null,
      "metadata": {
        "id": "Pgg1RUuuvdLa"
      },
      "outputs": [],
      "source": [
        "!rm -r /content/drive/MyDrive/luan_van_backup/detect.zip"
      ]
    },
    {
      "cell_type": "code",
      "execution_count": null,
      "metadata": {
        "id": "W38bv1rfuUxg"
      },
      "outputs": [],
      "source": [
        "source_folder = '/content/runs/detect'\n",
        "zip_path = '/content/drive/MyDrive/luan_van_backup/detect.zip'\n",
        "\n",
        "zip_subdirectories(source_folder, zip_path)"
      ]
    },
    {
      "cell_type": "markdown",
      "metadata": {
        "id": "Ny4BR9S54Ajb"
      },
      "source": [
        "\n",
        "\n",
        "> **Backup data model**\n",
        "\n",
        "\n"
      ]
    },
    {
      "cell_type": "code",
      "execution_count": null,
      "metadata": {
        "id": "AYnSkFh8vvTa"
      },
      "outputs": [],
      "source": [
        "!mkdir /content/runs\n",
        "!unzip -o /content/drive/MyDrive/luan_van_backup/detect.zip -d /content/runs/detect"
      ]
    }
  ],
  "metadata": {
    "accelerator": "GPU",
    "colab": {
      "provenance": [],
      "include_colab_link": true
    },
    "kernelspec": {
      "display_name": "Python 3",
      "name": "python3"
    },
    "language_info": {
      "name": "python"
    }
  },
  "nbformat": 4,
  "nbformat_minor": 0
}